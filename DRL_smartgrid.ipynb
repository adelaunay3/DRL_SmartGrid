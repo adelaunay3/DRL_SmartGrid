{
 "cells": [
  {
   "cell_type": "code",
   "execution_count": 1,
   "metadata": {
    "id": "kjMxnidAXK3j"
   },
   "outputs": [],
   "source": [
    "import pandas\n",
    "import tensorflow as tf\n",
    "from tensorflow.keras import layers\n",
    "from tensorflow.keras.utils import plot_model\n",
    "import random\n",
    "import matplotlib.pyplot as plt\n",
    "import numpy as np"
   ]
  },
  {
   "cell_type": "code",
   "execution_count": 2,
   "metadata": {
    "id": "vtVtZ4H1pPq8"
   },
   "outputs": [],
   "source": [
    "ACTIONS = [\"charge\", \"discharge\", \"generator\", \"discharge + generator\", \"nothing\"]\n",
    "NB_ACTION = len(ACTIONS)\n",
    "EPS = 5e-2\n",
    "GAMMA = 1.0\n",
    "\n",
    "class State:\n",
    "    def __init__(self):\n",
    "        self.battery = 0.0\n",
    "        self.panelProd = 0.0\n",
    "        self.consumption = 0.0\n",
    "        self.price = 0.0\n",
    "        self.daytime = 0.0\n",
    "        self.row = 0\n",
    "  \n",
    "    def toArray(self):\n",
    "        return np.array([self.battery, self.panelProd, self.consumption, self.price,0]) #self.daytime])"
   ]
  },
  {
   "cell_type": "code",
   "execution_count": 3,
   "metadata": {
    "id": "1DUpDwwJj0LZ"
   },
   "outputs": [],
   "source": [
    "class Env:\n",
    "    def __init__(self):\n",
    "        # load data (csv)\n",
    "        #importation données\n",
    "        df = pandas.read_csv(\"select_data.csv\", sep = ';', header = 0)\n",
    "        # TODO: transformer daytime en float\n",
    "\n",
    "        self.data=df.values\n",
    "        # for i in range(len(self.data)):\n",
    "        #     self.data[i,3]=self.data[i,3]*8000\n",
    "        # print(self.data[500])\n",
    "        self.initState()\n",
    "        self.batteryCapacity = 0.0\n",
    "        self.generatorCapacity = 0.0\n",
    "\n",
    "        self.co2Price = 0.0      #price per ton of CO2 (mean price from the european market)\n",
    "        self.co2Generator = 0.0   #ton of CO2 generated per Wh from the diesel generator\n",
    "        self.co2Market = 0.0        #ton of CO2 generated per Wh from the national power market (danish)\n",
    "\n",
    "        self.chargingCost = 0.0\n",
    "        self.dischargingCost = 0.0\n",
    "        #self.solarCost = 0.0\n",
    "        self.generatorCost = 0.0\n",
    "\n",
    "        self.chargingYield = 1.0\n",
    "        self.dischargingYield = 1.0\n",
    "\n",
    "\n",
    "    def initState(self):\n",
    "        self.currentState = State()\n",
    "        self.currentState.row = np.random.randint(0, len(self.data)) # Deuxième valeur à modifier en fonction du nombre de steps réalisés par épisode\n",
    "        row = self.currentState.row\n",
    "        self.currentState.daytime = self.data[row,1]\n",
    "        self.currentState.panelProd = self.data[row,3]\n",
    "        self.currentState.price = self.data[row,4]\n",
    "        self.currentState.consumption = self.data[row,5]\n",
    "\n",
    "    def act(self, action):\n",
    "        totalProd = self.currentState.panelProd\n",
    "        diffProd = totalProd - self.currentState.consumption\n",
    "\n",
    "        cost=0.0\n",
    "\n",
    "        if action == \"charge\":\n",
    "            if (diffProd>0):\n",
    "                charge = min(diffProd,(self.batteryCapacity-self.currentState.battery)/self.chargingYield)\n",
    "                self.currentState.battery+=charge*self.chargingYield\n",
    "                diffProd-=charge\n",
    "                cost+=charge*self.chargingCost\n",
    "\n",
    "\n",
    "        elif action == \"discharge\":\n",
    "            if (diffProd<0):\n",
    "                discharge = max(diffProd/self.dischargingYield,-self.currentState.battery)\n",
    "                self.currentState.battery+=discharge\n",
    "                diffProd-=discharge*self.dischargingYield\n",
    "                cost+=abs(discharge*self.dischargingCost)\n",
    "\n",
    "\n",
    "        elif action == \"generator\":\n",
    "              if (diffProd<0):\n",
    "                generate=min(-diffProd, self.generatorCapacity)\n",
    "                diffProd+=generate\n",
    "                cost+=generate*self.generatorCost\n",
    "\n",
    "\n",
    "        elif action == \"discharge + generator\":\n",
    "            if (diffProd<0):\n",
    "                discharge = max(diffProd/self.dischargingYield,-self.currentState.battery)\n",
    "                self.currentState.battery+=discharge\n",
    "                diffProd-=discharge*self.dischargingYield\n",
    "                cost+=abs(discharge*self.dischargingCost)\n",
    "\n",
    "\n",
    "            if (diffProd<0):\n",
    "                generate=min(-diffProd, self.generatorCapacity)\n",
    "                diffProd+=generate\n",
    "                cost+=generate*self.generatorCost\n",
    "\n",
    "\n",
    "        cost+=diffProd*self.currentState.price\n",
    "\n",
    "        #UPDATE SELF.PANELPROD, PRICE, CONSUMPTION, DAYTIME according to the dataset\n",
    "        row = self.currentState.row + 1\n",
    "        self.currentState.daytime = self.data[row,1]\n",
    "        self.currentState.panelProd = self.data[row,3]\n",
    "        self.currentState.price = self.data[row,4]\n",
    "        self.currentState.consumption = self.data[row,5]\n",
    "        self.currentState.row = row\n",
    "\n",
    "        return -cost, self.currentState\n",
    "\n",
    "\n",
    "    def getState(self):\n",
    "        return self.currentState\n"
   ]
  },
  {
   "cell_type": "code",
   "execution_count": 4,
   "metadata": {
    "id": "kYzMKL07p_3d"
   },
   "outputs": [],
   "source": [
    "def DQN(n_neurons, input_size):\n",
    "    model = tf.keras.Sequential(name=\"DQN\")\n",
    "    model.add(layers.Dense(n_neurons, input_shape=(input_size,), bias_initializer=\"glorot_normal\", \n",
    "                           kernel_initializer=\"glorot_normal\"))\n",
    "    model.add(layers.LeakyReLU(alpha=0.1))\n",
    "    model.add(layers.Dense(n_neurons, bias_initializer=\"glorot_normal\", kernel_initializer=\"glorot_normal\"))\n",
    "    model.add(layers.LeakyReLU(alpha=0.1))\n",
    "    \n",
    "    model.add(layers.Dense(units = 1, bias_initializer=\"glorot_normal\", kernel_initializer=\"glorot_normal\"))\n",
    "    return model"
   ]
  },
  {
   "cell_type": "code",
   "execution_count": 5,
   "metadata": {
    "id": "ktQ41-LDp_3i"
   },
   "outputs": [],
   "source": [
    "def predict(model, state, action):\n",
    "    input_model = np.array([0.0]*NB_ACTION + list(state.toArray()))\n",
    "\n",
    "    if action == \"charge\":\n",
    "        input_model[0] = 1.0\n",
    "    elif action == \"discharge\":\n",
    "        input_model[1] = 1.0\n",
    "    elif action == \"generator\":\n",
    "        input_model[2] = 1.0\n",
    "    elif action == \"discharge + generator\":\n",
    "        input_model[3] = 1.0\n",
    "    else:\n",
    "        input_model[4] = 1.0\n",
    "\n",
    "    #print(action)\n",
    "    #print(input_model)\n",
    "    res= model(np.array([input_model]))\n",
    "\n",
    "    #print(input_model, res)\n",
    "    return res"
   ]
  },
  {
   "cell_type": "code",
   "execution_count": 6,
   "metadata": {
    "id": "zc31kqaJp_3o"
   },
   "outputs": [],
   "source": [
    "def policy(model, state):\n",
    "    q_value = [predict(model, state, action) for action in ACTIONS]\n",
    "    prob = np.ones(NB_ACTION) * EPS / NB_ACTION\n",
    "    prob[np.argmax(q_value)] += 1.0 - EPS\n",
    "    return prob"
   ]
  },
  {
   "cell_type": "code",
   "execution_count": 7,
   "metadata": {
    "id": "0QTzmmhHp_3s"
   },
   "outputs": [],
   "source": [
    "def loss(model, transitions_batch):\n",
    "    y = []\n",
    "    q = []\n",
    "    for state, action, reward, next_state in transitions_batch:\n",
    "        q_value = [predict(model, next_state, a) for a in ACTIONS]\n",
    "        best_next_action = np.argmax(q_value)\n",
    "        y.append(reward + GAMMA * q_value[best_next_action])\n",
    "        q.append(predict(model, state, action))\n",
    "    \n",
    "    return tf.reduce_mean(tf.square(q - tf.stop_gradient(y)), name=\"loss_mse_train\")"
   ]
  },
  {
   "cell_type": "code",
   "execution_count": 16,
   "metadata": {
    "id": "bDuz3yxgp_3x"
   },
   "outputs": [],
   "source": [
    "def train_step(model, transitions_batch):\n",
    "    #batch_size = transitions_batch.shape[0]\n",
    "    \n",
    "    with tf.GradientTape() as disc_tape:\n",
    "        disc_loss = loss(model, transitions_batch)\n",
    "\n",
    "    gradients = disc_tape.gradient(disc_loss, model.trainable_variables)\n",
    "    \n",
    "    optimizer.apply_gradients(zip(gradients, model.trainable_variables))\n",
    "    return disc_loss"
   ]
  },
  {
   "cell_type": "code",
   "execution_count": 23,
   "metadata": {
    "colab": {
     "base_uri": "https://localhost:8080/",
     "height": 462
    },
    "id": "s5estrpZp_30",
    "outputId": "0a852cd0-f9be-48af-9f10-d53b3f89080d"
   },
   "outputs": [
    {
     "output_type": "stream",
     "name": "stdout",
     "text": [
      "Model: \"DQN\"\n_________________________________________________________________\nLayer (type)                 Output Shape              Param #   \n=================================================================\ndense_30 (Dense)             (None, 10)                110       \n_________________________________________________________________\nleaky_re_lu_20 (LeakyReLU)   (None, 10)                0         \n_________________________________________________________________\ndense_31 (Dense)             (None, 10)                110       \n_________________________________________________________________\nleaky_re_lu_21 (LeakyReLU)   (None, 10)                0         \n_________________________________________________________________\ndense_32 (Dense)             (None, 1)                 11        \n=================================================================\nTotal params: 231\nTrainable params: 231\nNon-trainable params: 0\n_________________________________________________________________\n"
     ]
    },
    {
     "output_type": "execute_result",
     "data": {
      "text/plain": [
       "[<matplotlib.lines.Line2D at 0x7f96a80469d0>]"
      ]
     },
     "metadata": {},
     "execution_count": 23
    },
    {
     "output_type": "display_data",
     "data": {
      "text/plain": "<Figure size 432x288 with 1 Axes>",
      "image/svg+xml": "<?xml version=\"1.0\" encoding=\"utf-8\" standalone=\"no\"?>\n<!DOCTYPE svg PUBLIC \"-//W3C//DTD SVG 1.1//EN\"\n  \"http://www.w3.org/Graphics/SVG/1.1/DTD/svg11.dtd\">\n<!-- Created with matplotlib (https://matplotlib.org/) -->\n<svg height=\"259.116562pt\" version=\"1.1\" viewBox=\"0 0 362.5625 259.116562\" width=\"362.5625pt\" xmlns=\"http://www.w3.org/2000/svg\" xmlns:xlink=\"http://www.w3.org/1999/xlink\">\n <metadata>\n  <rdf:RDF xmlns:cc=\"http://creativecommons.org/ns#\" xmlns:dc=\"http://purl.org/dc/elements/1.1/\" xmlns:rdf=\"http://www.w3.org/1999/02/22-rdf-syntax-ns#\">\n   <cc:Work>\n    <dc:type rdf:resource=\"http://purl.org/dc/dcmitype/StillImage\"/>\n    <dc:date>2020-11-10T14:57:51.178116</dc:date>\n    <dc:format>image/svg+xml</dc:format>\n    <dc:creator>\n     <cc:Agent>\n      <dc:title>Matplotlib v3.3.1, https://matplotlib.org/</dc:title>\n     </cc:Agent>\n    </dc:creator>\n   </cc:Work>\n  </rdf:RDF>\n </metadata>\n <defs>\n  <style type=\"text/css\">*{stroke-linecap:butt;stroke-linejoin:round;}</style>\n </defs>\n <g id=\"figure_1\">\n  <g id=\"patch_1\">\n   <path d=\"M 0 259.116562 \nL 362.5625 259.116562 \nL 362.5625 0 \nL 0 0 \nz\n\" style=\"fill:none;\"/>\n  </g>\n  <g id=\"axes_1\">\n   <g id=\"patch_2\">\n    <path d=\"M 20.5625 235.238437 \nL 355.3625 235.238437 \nL 355.3625 17.798437 \nL 20.5625 17.798437 \nz\n\" style=\"fill:#ffffff;\"/>\n   </g>\n   <g id=\"matplotlib.axis_1\">\n    <g id=\"xtick_1\">\n     <g id=\"line2d_1\">\n      <defs>\n       <path d=\"M 0 0 \nL 0 3.5 \n\" id=\"m7b2a013eca\" style=\"stroke:#000000;stroke-width:0.8;\"/>\n      </defs>\n      <g>\n       <use style=\"stroke:#000000;stroke-width:0.8;\" x=\"35.780682\" xlink:href=\"#m7b2a013eca\" y=\"235.238437\"/>\n      </g>\n     </g>\n     <g id=\"text_1\">\n      <!-- 0 -->\n      <g transform=\"translate(32.599432 249.836875)scale(0.1 -0.1)\">\n       <defs>\n        <path d=\"M 31.78125 66.40625 \nQ 24.171875 66.40625 20.328125 58.90625 \nQ 16.5 51.421875 16.5 36.375 \nQ 16.5 21.390625 20.328125 13.890625 \nQ 24.171875 6.390625 31.78125 6.390625 \nQ 39.453125 6.390625 43.28125 13.890625 \nQ 47.125 21.390625 47.125 36.375 \nQ 47.125 51.421875 43.28125 58.90625 \nQ 39.453125 66.40625 31.78125 66.40625 \nz\nM 31.78125 74.21875 \nQ 44.046875 74.21875 50.515625 64.515625 \nQ 56.984375 54.828125 56.984375 36.375 \nQ 56.984375 17.96875 50.515625 8.265625 \nQ 44.046875 -1.421875 31.78125 -1.421875 \nQ 19.53125 -1.421875 13.0625 8.265625 \nQ 6.59375 17.96875 6.59375 36.375 \nQ 6.59375 54.828125 13.0625 64.515625 \nQ 19.53125 74.21875 31.78125 74.21875 \nz\n\" id=\"DejaVuSans-48\"/>\n       </defs>\n       <use xlink:href=\"#DejaVuSans-48\"/>\n      </g>\n     </g>\n    </g>\n    <g id=\"xtick_2\">\n     <g id=\"line2d_2\">\n      <g>\n       <use style=\"stroke:#000000;stroke-width:0.8;\" x=\"103.417045\" xlink:href=\"#m7b2a013eca\" y=\"235.238437\"/>\n      </g>\n     </g>\n     <g id=\"text_2\">\n      <!-- 2 -->\n      <g transform=\"translate(100.235795 249.836875)scale(0.1 -0.1)\">\n       <defs>\n        <path d=\"M 19.1875 8.296875 \nL 53.609375 8.296875 \nL 53.609375 0 \nL 7.328125 0 \nL 7.328125 8.296875 \nQ 12.9375 14.109375 22.625 23.890625 \nQ 32.328125 33.6875 34.8125 36.53125 \nQ 39.546875 41.84375 41.421875 45.53125 \nQ 43.3125 49.21875 43.3125 52.78125 \nQ 43.3125 58.59375 39.234375 62.25 \nQ 35.15625 65.921875 28.609375 65.921875 \nQ 23.96875 65.921875 18.8125 64.3125 \nQ 13.671875 62.703125 7.8125 59.421875 \nL 7.8125 69.390625 \nQ 13.765625 71.78125 18.9375 73 \nQ 24.125 74.21875 28.421875 74.21875 \nQ 39.75 74.21875 46.484375 68.546875 \nQ 53.21875 62.890625 53.21875 53.421875 \nQ 53.21875 48.921875 51.53125 44.890625 \nQ 49.859375 40.875 45.40625 35.40625 \nQ 44.1875 33.984375 37.640625 27.21875 \nQ 31.109375 20.453125 19.1875 8.296875 \nz\n\" id=\"DejaVuSans-50\"/>\n       </defs>\n       <use xlink:href=\"#DejaVuSans-50\"/>\n      </g>\n     </g>\n    </g>\n    <g id=\"xtick_3\">\n     <g id=\"line2d_3\">\n      <g>\n       <use style=\"stroke:#000000;stroke-width:0.8;\" x=\"171.053409\" xlink:href=\"#m7b2a013eca\" y=\"235.238437\"/>\n      </g>\n     </g>\n     <g id=\"text_3\">\n      <!-- 4 -->\n      <g transform=\"translate(167.872159 249.836875)scale(0.1 -0.1)\">\n       <defs>\n        <path d=\"M 37.796875 64.3125 \nL 12.890625 25.390625 \nL 37.796875 25.390625 \nz\nM 35.203125 72.90625 \nL 47.609375 72.90625 \nL 47.609375 25.390625 \nL 58.015625 25.390625 \nL 58.015625 17.1875 \nL 47.609375 17.1875 \nL 47.609375 0 \nL 37.796875 0 \nL 37.796875 17.1875 \nL 4.890625 17.1875 \nL 4.890625 26.703125 \nz\n\" id=\"DejaVuSans-52\"/>\n       </defs>\n       <use xlink:href=\"#DejaVuSans-52\"/>\n      </g>\n     </g>\n    </g>\n    <g id=\"xtick_4\">\n     <g id=\"line2d_4\">\n      <g>\n       <use style=\"stroke:#000000;stroke-width:0.8;\" x=\"238.689773\" xlink:href=\"#m7b2a013eca\" y=\"235.238437\"/>\n      </g>\n     </g>\n     <g id=\"text_4\">\n      <!-- 6 -->\n      <g transform=\"translate(235.508523 249.836875)scale(0.1 -0.1)\">\n       <defs>\n        <path d=\"M 33.015625 40.375 \nQ 26.375 40.375 22.484375 35.828125 \nQ 18.609375 31.296875 18.609375 23.390625 \nQ 18.609375 15.53125 22.484375 10.953125 \nQ 26.375 6.390625 33.015625 6.390625 \nQ 39.65625 6.390625 43.53125 10.953125 \nQ 47.40625 15.53125 47.40625 23.390625 \nQ 47.40625 31.296875 43.53125 35.828125 \nQ 39.65625 40.375 33.015625 40.375 \nz\nM 52.59375 71.296875 \nL 52.59375 62.3125 \nQ 48.875 64.0625 45.09375 64.984375 \nQ 41.3125 65.921875 37.59375 65.921875 \nQ 27.828125 65.921875 22.671875 59.328125 \nQ 17.53125 52.734375 16.796875 39.40625 \nQ 19.671875 43.65625 24.015625 45.921875 \nQ 28.375 48.1875 33.59375 48.1875 \nQ 44.578125 48.1875 50.953125 41.515625 \nQ 57.328125 34.859375 57.328125 23.390625 \nQ 57.328125 12.15625 50.6875 5.359375 \nQ 44.046875 -1.421875 33.015625 -1.421875 \nQ 20.359375 -1.421875 13.671875 8.265625 \nQ 6.984375 17.96875 6.984375 36.375 \nQ 6.984375 53.65625 15.1875 63.9375 \nQ 23.390625 74.21875 37.203125 74.21875 \nQ 40.921875 74.21875 44.703125 73.484375 \nQ 48.484375 72.75 52.59375 71.296875 \nz\n\" id=\"DejaVuSans-54\"/>\n       </defs>\n       <use xlink:href=\"#DejaVuSans-54\"/>\n      </g>\n     </g>\n    </g>\n    <g id=\"xtick_5\">\n     <g id=\"line2d_5\">\n      <g>\n       <use style=\"stroke:#000000;stroke-width:0.8;\" x=\"306.326136\" xlink:href=\"#m7b2a013eca\" y=\"235.238437\"/>\n      </g>\n     </g>\n     <g id=\"text_5\">\n      <!-- 8 -->\n      <g transform=\"translate(303.144886 249.836875)scale(0.1 -0.1)\">\n       <defs>\n        <path d=\"M 31.78125 34.625 \nQ 24.75 34.625 20.71875 30.859375 \nQ 16.703125 27.09375 16.703125 20.515625 \nQ 16.703125 13.921875 20.71875 10.15625 \nQ 24.75 6.390625 31.78125 6.390625 \nQ 38.8125 6.390625 42.859375 10.171875 \nQ 46.921875 13.96875 46.921875 20.515625 \nQ 46.921875 27.09375 42.890625 30.859375 \nQ 38.875 34.625 31.78125 34.625 \nz\nM 21.921875 38.8125 \nQ 15.578125 40.375 12.03125 44.71875 \nQ 8.5 49.078125 8.5 55.328125 \nQ 8.5 64.0625 14.71875 69.140625 \nQ 20.953125 74.21875 31.78125 74.21875 \nQ 42.671875 74.21875 48.875 69.140625 \nQ 55.078125 64.0625 55.078125 55.328125 \nQ 55.078125 49.078125 51.53125 44.71875 \nQ 48 40.375 41.703125 38.8125 \nQ 48.828125 37.15625 52.796875 32.3125 \nQ 56.78125 27.484375 56.78125 20.515625 \nQ 56.78125 9.90625 50.3125 4.234375 \nQ 43.84375 -1.421875 31.78125 -1.421875 \nQ 19.734375 -1.421875 13.25 4.234375 \nQ 6.78125 9.90625 6.78125 20.515625 \nQ 6.78125 27.484375 10.78125 32.3125 \nQ 14.796875 37.15625 21.921875 38.8125 \nz\nM 18.3125 54.390625 \nQ 18.3125 48.734375 21.84375 45.5625 \nQ 25.390625 42.390625 31.78125 42.390625 \nQ 38.140625 42.390625 41.71875 45.5625 \nQ 45.3125 48.734375 45.3125 54.390625 \nQ 45.3125 60.0625 41.71875 63.234375 \nQ 38.140625 66.40625 31.78125 66.40625 \nQ 25.390625 66.40625 21.84375 63.234375 \nQ 18.3125 60.0625 18.3125 54.390625 \nz\n\" id=\"DejaVuSans-56\"/>\n       </defs>\n       <use xlink:href=\"#DejaVuSans-56\"/>\n      </g>\n     </g>\n    </g>\n   </g>\n   <g id=\"matplotlib.axis_2\">\n    <g id=\"ytick_1\">\n     <g id=\"line2d_6\">\n      <defs>\n       <path d=\"M 0 0 \nL -3.5 0 \n\" id=\"m7b97697738\" style=\"stroke:#000000;stroke-width:0.8;\"/>\n      </defs>\n      <g>\n       <use style=\"stroke:#000000;stroke-width:0.8;\" x=\"20.5625\" xlink:href=\"#m7b97697738\" y=\"219.79481\"/>\n      </g>\n     </g>\n     <g id=\"text_6\">\n      <!-- 3 -->\n      <g transform=\"translate(7.2 223.594029)scale(0.1 -0.1)\">\n       <defs>\n        <path d=\"M 40.578125 39.3125 \nQ 47.65625 37.796875 51.625 33 \nQ 55.609375 28.21875 55.609375 21.1875 \nQ 55.609375 10.40625 48.1875 4.484375 \nQ 40.765625 -1.421875 27.09375 -1.421875 \nQ 22.515625 -1.421875 17.65625 -0.515625 \nQ 12.796875 0.390625 7.625 2.203125 \nL 7.625 11.71875 \nQ 11.71875 9.328125 16.59375 8.109375 \nQ 21.484375 6.890625 26.8125 6.890625 \nQ 36.078125 6.890625 40.9375 10.546875 \nQ 45.796875 14.203125 45.796875 21.1875 \nQ 45.796875 27.640625 41.28125 31.265625 \nQ 36.765625 34.90625 28.71875 34.90625 \nL 20.21875 34.90625 \nL 20.21875 43.015625 \nL 29.109375 43.015625 \nQ 36.375 43.015625 40.234375 45.921875 \nQ 44.09375 48.828125 44.09375 54.296875 \nQ 44.09375 59.90625 40.109375 62.90625 \nQ 36.140625 65.921875 28.71875 65.921875 \nQ 24.65625 65.921875 20.015625 65.03125 \nQ 15.375 64.15625 9.8125 62.3125 \nL 9.8125 71.09375 \nQ 15.4375 72.65625 20.34375 73.4375 \nQ 25.25 74.21875 29.59375 74.21875 \nQ 40.828125 74.21875 47.359375 69.109375 \nQ 53.90625 64.015625 53.90625 55.328125 \nQ 53.90625 49.265625 50.4375 45.09375 \nQ 46.96875 40.921875 40.578125 39.3125 \nz\n\" id=\"DejaVuSans-51\"/>\n       </defs>\n       <use xlink:href=\"#DejaVuSans-51\"/>\n      </g>\n     </g>\n    </g>\n    <g id=\"ytick_2\">\n     <g id=\"line2d_7\">\n      <g>\n       <use style=\"stroke:#000000;stroke-width:0.8;\" x=\"20.5625\" xlink:href=\"#m7b97697738\" y=\"176.665258\"/>\n      </g>\n     </g>\n     <g id=\"text_7\">\n      <!-- 4 -->\n      <g transform=\"translate(7.2 180.464477)scale(0.1 -0.1)\">\n       <use xlink:href=\"#DejaVuSans-52\"/>\n      </g>\n     </g>\n    </g>\n    <g id=\"ytick_3\">\n     <g id=\"line2d_8\">\n      <g>\n       <use style=\"stroke:#000000;stroke-width:0.8;\" x=\"20.5625\" xlink:href=\"#m7b97697738\" y=\"133.535705\"/>\n      </g>\n     </g>\n     <g id=\"text_8\">\n      <!-- 5 -->\n      <g transform=\"translate(7.2 137.334924)scale(0.1 -0.1)\">\n       <defs>\n        <path d=\"M 10.796875 72.90625 \nL 49.515625 72.90625 \nL 49.515625 64.59375 \nL 19.828125 64.59375 \nL 19.828125 46.734375 \nQ 21.96875 47.46875 24.109375 47.828125 \nQ 26.265625 48.1875 28.421875 48.1875 \nQ 40.625 48.1875 47.75 41.5 \nQ 54.890625 34.8125 54.890625 23.390625 \nQ 54.890625 11.625 47.5625 5.09375 \nQ 40.234375 -1.421875 26.90625 -1.421875 \nQ 22.3125 -1.421875 17.546875 -0.640625 \nQ 12.796875 0.140625 7.71875 1.703125 \nL 7.71875 11.625 \nQ 12.109375 9.234375 16.796875 8.0625 \nQ 21.484375 6.890625 26.703125 6.890625 \nQ 35.15625 6.890625 40.078125 11.328125 \nQ 45.015625 15.765625 45.015625 23.390625 \nQ 45.015625 31 40.078125 35.4375 \nQ 35.15625 39.890625 26.703125 39.890625 \nQ 22.75 39.890625 18.8125 39.015625 \nQ 14.890625 38.140625 10.796875 36.28125 \nz\n\" id=\"DejaVuSans-53\"/>\n       </defs>\n       <use xlink:href=\"#DejaVuSans-53\"/>\n      </g>\n     </g>\n    </g>\n    <g id=\"ytick_4\">\n     <g id=\"line2d_9\">\n      <g>\n       <use style=\"stroke:#000000;stroke-width:0.8;\" x=\"20.5625\" xlink:href=\"#m7b97697738\" y=\"90.406153\"/>\n      </g>\n     </g>\n     <g id=\"text_9\">\n      <!-- 6 -->\n      <g transform=\"translate(7.2 94.205372)scale(0.1 -0.1)\">\n       <use xlink:href=\"#DejaVuSans-54\"/>\n      </g>\n     </g>\n    </g>\n    <g id=\"ytick_5\">\n     <g id=\"line2d_10\">\n      <g>\n       <use style=\"stroke:#000000;stroke-width:0.8;\" x=\"20.5625\" xlink:href=\"#m7b97697738\" y=\"47.2766\"/>\n      </g>\n     </g>\n     <g id=\"text_10\">\n      <!-- 7 -->\n      <g transform=\"translate(7.2 51.075819)scale(0.1 -0.1)\">\n       <defs>\n        <path d=\"M 8.203125 72.90625 \nL 55.078125 72.90625 \nL 55.078125 68.703125 \nL 28.609375 0 \nL 18.3125 0 \nL 43.21875 64.59375 \nL 8.203125 64.59375 \nz\n\" id=\"DejaVuSans-55\"/>\n       </defs>\n       <use xlink:href=\"#DejaVuSans-55\"/>\n      </g>\n     </g>\n    </g>\n    <g id=\"text_11\">\n     <!-- 1e12 -->\n     <g transform=\"translate(20.5625 14.798437)scale(0.1 -0.1)\">\n      <defs>\n       <path d=\"M 12.40625 8.296875 \nL 28.515625 8.296875 \nL 28.515625 63.921875 \nL 10.984375 60.40625 \nL 10.984375 69.390625 \nL 28.421875 72.90625 \nL 38.28125 72.90625 \nL 38.28125 8.296875 \nL 54.390625 8.296875 \nL 54.390625 0 \nL 12.40625 0 \nz\n\" id=\"DejaVuSans-49\"/>\n       <path d=\"M 56.203125 29.59375 \nL 56.203125 25.203125 \nL 14.890625 25.203125 \nQ 15.484375 15.921875 20.484375 11.0625 \nQ 25.484375 6.203125 34.421875 6.203125 \nQ 39.59375 6.203125 44.453125 7.46875 \nQ 49.3125 8.734375 54.109375 11.28125 \nL 54.109375 2.78125 \nQ 49.265625 0.734375 44.1875 -0.34375 \nQ 39.109375 -1.421875 33.890625 -1.421875 \nQ 20.796875 -1.421875 13.15625 6.1875 \nQ 5.515625 13.8125 5.515625 26.8125 \nQ 5.515625 40.234375 12.765625 48.109375 \nQ 20.015625 56 32.328125 56 \nQ 43.359375 56 49.78125 48.890625 \nQ 56.203125 41.796875 56.203125 29.59375 \nz\nM 47.21875 32.234375 \nQ 47.125 39.59375 43.09375 43.984375 \nQ 39.0625 48.390625 32.421875 48.390625 \nQ 24.90625 48.390625 20.390625 44.140625 \nQ 15.875 39.890625 15.1875 32.171875 \nz\n\" id=\"DejaVuSans-101\"/>\n      </defs>\n      <use xlink:href=\"#DejaVuSans-49\"/>\n      <use x=\"63.623047\" xlink:href=\"#DejaVuSans-101\"/>\n      <use x=\"125.146484\" xlink:href=\"#DejaVuSans-49\"/>\n      <use x=\"188.769531\" xlink:href=\"#DejaVuSans-50\"/>\n     </g>\n    </g>\n   </g>\n   <g id=\"line2d_11\">\n    <path clip-path=\"url(#p6237dfb30f)\" d=\"M 35.780682 220.940641 \nL 69.598864 210.122043 \nL 103.417045 225.354801 \nL 137.235227 181.90903 \nL 171.053409 154.230741 \nL 204.871591 127.055406 \nL 238.689773 27.682074 \nL 272.507955 44.901413 \nL 306.326136 39.058122 \nL 340.144318 29.334649 \n\" style=\"fill:none;stroke:#1f77b4;stroke-linecap:square;stroke-width:1.5;\"/>\n   </g>\n   <g id=\"patch_3\">\n    <path d=\"M 20.5625 235.238437 \nL 20.5625 17.798437 \n\" style=\"fill:none;stroke:#000000;stroke-linecap:square;stroke-linejoin:miter;stroke-width:0.8;\"/>\n   </g>\n   <g id=\"patch_4\">\n    <path d=\"M 355.3625 235.238437 \nL 355.3625 17.798437 \n\" style=\"fill:none;stroke:#000000;stroke-linecap:square;stroke-linejoin:miter;stroke-width:0.8;\"/>\n   </g>\n   <g id=\"patch_5\">\n    <path d=\"M 20.5625 235.238437 \nL 355.3625 235.238437 \n\" style=\"fill:none;stroke:#000000;stroke-linecap:square;stroke-linejoin:miter;stroke-width:0.8;\"/>\n   </g>\n   <g id=\"patch_6\">\n    <path d=\"M 20.5625 17.798437 \nL 355.3625 17.798437 \n\" style=\"fill:none;stroke:#000000;stroke-linecap:square;stroke-linejoin:miter;stroke-width:0.8;\"/>\n   </g>\n  </g>\n </g>\n <defs>\n  <clipPath id=\"p6237dfb30f\">\n   <rect height=\"217.44\" width=\"334.8\" x=\"20.5625\" y=\"17.798437\"/>\n  </clipPath>\n </defs>\n</svg>\n",
      "image/png": "[encoded data removed]"
     },
     "metadata": {
      "needs_background": "light"
     }
    }
   ],
   "source": [
    "env = Env()\n",
    "env.initState()\n",
    "\n",
    "nb_episodes = 10\n",
    "nb_steps = 10\n",
    "batch_size = 10\n",
    "\n",
    "DQN_model = DQN(n_neurons=10, input_size=10)\n",
    "DQN_model.summary()\n",
    "#print(DQN_model(np.array([[0.0]*10])))\n",
    "\n",
    "optimizer = tf.keras.optimizers.Adam(learning_rate=1e-4)\n",
    "\n",
    "state = env.currentState\n",
    "\n",
    "replay_memory = []\n",
    "replay_memory_init_size = 100\n",
    "\n",
    "for i in range(replay_memory_init_size):\n",
    "    action_probs = policy(DQN_model, state)\n",
    "    action = np.random.choice(np.arange(len(action_probs)), p=action_probs)\n",
    "    reward, next_state = env.act(action)\n",
    "    replay_memory.append((state, action, reward, next_state))\n",
    "    state=next_state\n",
    "\n",
    "loss_hist = []\n",
    "\n",
    "for i_episode in range(nb_episodes):\n",
    "    env.initState()\n",
    "    state = env.currentState\n",
    "    loss_episode = 0.0\n",
    "    #print(i_episode)\n",
    "\n",
    "    for step in range(nb_steps):\n",
    "        action_probs = policy(DQN_model, state)\n",
    "        action = np.random.choice(np.arange(len(action_probs)), p=action_probs)\n",
    "        reward, next_state = env.act(action)\n",
    "        \n",
    "        replay_memory.pop(0)\n",
    "        replay_memory.append((state, action, reward, next_state))\n",
    "\n",
    "        samples = random.sample(replay_memory, batch_size)\n",
    "\n",
    "        loss_episode += train_step(DQN_model, samples)\n",
    "        state=next_state\n",
    "    \n",
    "    loss_hist.append(loss_episode)\n",
    "\n",
    "plt.plot(loss_hist)"
   ]
  },
  {
   "cell_type": "code",
   "execution_count": 10,
   "metadata": {},
   "outputs": [
    {
     "output_type": "stream",
     "name": "stdout",
     "text": [
      "2018-03-13 17:20:00+00:00\n"
     ]
    }
   ],
   "source": [
    "conso=[]\n",
    "prod=[]\n",
    "battery=[]\n",
    "price=[]\n",
    "actions=[]\n",
    "cost=[]\n",
    "env.initState()\n",
    "print(env.currentState.daytime)\n",
    "for i in range(100):\n",
    "    action_probs = policy(DQN_model, state)\n",
    "    action = np.random.choice(np.arange(len(action_probs)), p=action_probs)\n",
    "    reward, next_state = env.act(action)\n",
    "    replay_memory.append((state, action, reward, next_state))\n",
    "    conso.append(state.consumption)\n",
    "    prod.append(state.panelProd)\n",
    "    battery.append(state.battery)\n",
    "    price.append(state.price)\n",
    "    cost.append(-reward)\n",
    "    actions.append(action)\n",
    "    state=next_state\n",
    "    \n",
    "    #if (i%100==0):\n",
    "    #    print(i)"
   ]
  }
 ],
 "metadata": {
  "colab": {
   "collapsed_sections": [],
   "name": "DRL_smartgrid(1).ipynb",
   "provenance": []
  },
  "kernelspec": {
   "display_name": "Python 3",
   "language": "python",
   "name": "python3"
  },
  "language_info": {
   "codemirror_mode": {
    "name": "ipython",
    "version": 3
   },
   "file_extension": ".py",
   "mimetype": "text/x-python",
   "name": "python",
   "nbconvert_exporter": "python",
   "pygments_lexer": "ipython3",
   "version": "3.8.5-final"
  }
 },
 "nbformat": 4,
 "nbformat_minor": 1
}